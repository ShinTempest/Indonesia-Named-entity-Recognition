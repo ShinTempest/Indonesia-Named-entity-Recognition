{
 "cells": [
  {
   "cell_type": "code",
   "execution_count": 1,
   "id": "0c36e717",
   "metadata": {},
   "outputs": [],
   "source": [
    "import pandas as pd\n",
    "import spacy\n",
    "import networkx as nx\n",
    "from itertools import combinations\n",
    "from collections import defaultdict\n",
    "\n",
    "data = pd.read_table(\"SINGGALANG.tsv\")"
   ]
  },
  {
   "cell_type": "code",
   "execution_count": 2,
   "id": "a7ca49df",
   "metadata": {},
   "outputs": [
    {
     "data": {
      "text/html": [
       "<div>\n",
       "<style scoped>\n",
       "    .dataframe tbody tr th:only-of-type {\n",
       "        vertical-align: middle;\n",
       "    }\n",
       "\n",
       "    .dataframe tbody tr th {\n",
       "        vertical-align: top;\n",
       "    }\n",
       "\n",
       "    .dataframe thead th {\n",
       "        text-align: right;\n",
       "    }\n",
       "</style>\n",
       "<table border=\"1\" class=\"dataframe\">\n",
       "  <thead>\n",
       "    <tr style=\"text-align: right;\">\n",
       "      <th></th>\n",
       "      <th>Word</th>\n",
       "      <th>Tag</th>\n",
       "    </tr>\n",
       "  </thead>\n",
       "  <tbody>\n",
       "    <tr>\n",
       "      <th>0</th>\n",
       "      <td>Ia</td>\n",
       "      <td>O</td>\n",
       "    </tr>\n",
       "    <tr>\n",
       "      <th>1</th>\n",
       "      <td>menjabat</td>\n",
       "      <td>O</td>\n",
       "    </tr>\n",
       "    <tr>\n",
       "      <th>2</th>\n",
       "      <td>sebagai</td>\n",
       "      <td>O</td>\n",
       "    </tr>\n",
       "    <tr>\n",
       "      <th>3</th>\n",
       "      <td>Presiden</td>\n",
       "      <td>O</td>\n",
       "    </tr>\n",
       "    <tr>\n",
       "      <th>4</th>\n",
       "      <td>ketiga</td>\n",
       "      <td>O</td>\n",
       "    </tr>\n",
       "    <tr>\n",
       "      <th>...</th>\n",
       "      <td>...</td>\n",
       "      <td>...</td>\n",
       "    </tr>\n",
       "    <tr>\n",
       "      <th>1048570</th>\n",
       "      <td>1945</td>\n",
       "      <td>O</td>\n",
       "    </tr>\n",
       "    <tr>\n",
       "      <th>1048571</th>\n",
       "      <td>,</td>\n",
       "      <td>O</td>\n",
       "    </tr>\n",
       "    <tr>\n",
       "      <th>1048572</th>\n",
       "      <td>dia</td>\n",
       "      <td>O</td>\n",
       "    </tr>\n",
       "    <tr>\n",
       "      <th>1048573</th>\n",
       "      <td>,</td>\n",
       "      <td>O</td>\n",
       "    </tr>\n",
       "    <tr>\n",
       "      <th>1048574</th>\n",
       "      <td>yang</td>\n",
       "      <td>O</td>\n",
       "    </tr>\n",
       "  </tbody>\n",
       "</table>\n",
       "<p>1048575 rows × 2 columns</p>\n",
       "</div>"
      ],
      "text/plain": [
       "             Word Tag\n",
       "0              Ia   O\n",
       "1        menjabat   O\n",
       "2         sebagai   O\n",
       "3        Presiden   O\n",
       "4          ketiga   O\n",
       "...           ...  ..\n",
       "1048570      1945   O\n",
       "1048571         ,   O\n",
       "1048572       dia   O\n",
       "1048573         ,   O\n",
       "1048574      yang   O\n",
       "\n",
       "[1048575 rows x 2 columns]"
      ]
     },
     "execution_count": 2,
     "metadata": {},
     "output_type": "execute_result"
    }
   ],
   "source": [
    "data"
   ]
  },
  {
   "cell_type": "code",
   "execution_count": 3,
   "id": "3ea49601",
   "metadata": {},
   "outputs": [
    {
     "name": "stdout",
     "output_type": "stream",
     "text": [
      "defaultdict(<class 'dict'>, {'a': {'b': 2, 'c': 2, 'q': 2, 'v': 4, 'w': 2}, 'b': {'c': 1, 'q': 1, 'v': 2, 'w': 1}, 'c': {'q': 1, 'v': 2, 'w': 1}, 'q': {'v': 2, 'w': 1}, 'v': {'w': 2}})\n"
     ]
    }
   ],
   "source": [
    "def coocurrence(common_entities):\n",
    "\n",
    "    com = defaultdict(int)\n",
    "\n",
    "    # Build co-occurrence matrix\n",
    "    for w1, w2 in combinations(sorted(common_entities), 2):\n",
    "        com[w1, w2] += 1\n",
    "\n",
    "    result = defaultdict(dict)\n",
    "    for (w1, w2), count in com.items():\n",
    "        if w1 != w2:\n",
    "            # result[w1][w2] = {'weight': count}\n",
    "            result[w1][w2] = count\n",
    "    return result\n",
    "\n",
    "print(coocurrence('abcaqwvv'))\n",
    "\n",
    "# TODO: test this, it may not work\n",
    "def combine_nested_dicts(x, y):\n",
    "    for key in x:\n",
    "        if key in y:\n",
    "            x[key] = Counter(x[key]) + Counter(y[key])\n",
    "            x[key] = dict(x[key])\n",
    "        else:\n",
    "            x.update(y[key])\n",
    "    for key in y: \n",
    "        if key not in x:\n",
    "            x.update(y[key])\n",
    "    return(x)"
   ]
  },
  {
   "cell_type": "code",
   "execution_count": 4,
   "id": "651f1adc",
   "metadata": {},
   "outputs": [
    {
     "name": "stdout",
     "output_type": "stream",
     "text": [
      "defaultdict(<class 'dict'>, {'a': {'b': 2, 'c': 2, 'q': 2, 'v': 4, 'w': 2}, 'b': {'c': 1, 'q': 1, 'v': 2, 'w': 1}, 'c': {'q': 1, 'v': 2, 'w': 1}, 'q': {'v': 2, 'w': 1}, 'v': {'w': 2}})\n"
     ]
    }
   ],
   "source": [
    "# test coocurrence \n",
    "print(coocurrence('abcaqwvv'))\n",
    "\n",
    "# test combining dicts\n",
    "x = coocurrence('abb')\n",
    "y = coocurrence('acbd')\n",
    "z = coocurrence('efg')"
   ]
  },
  {
   "cell_type": "code",
   "execution_count": 5,
   "id": "3214eba1",
   "metadata": {},
   "outputs": [
    {
     "name": "stdout",
     "output_type": "stream",
     "text": [
      "defaultdict(<class 'dict'>, {'a': {'b': 2}, 'f': 1, 'g': 1})\n"
     ]
    }
   ],
   "source": [
    "print(combine_nested_dicts(x, z))"
   ]
  },
  {
   "cell_type": "code",
   "execution_count": 6,
   "id": "0fe09ab3",
   "metadata": {},
   "outputs": [],
   "source": [
    "# remove duplicate Words\n",
    "Words = data.Word.unique()\n",
    "\n",
    "# make sure it's all strings\n",
    "Words = [str(Word) for Word in Words]\n",
    "\n",
    "# NER list we'll use\n",
    "nlp = spacy.load('en_core_web_sm')\n",
    "\n",
    "# intialize claim counter & lists for our entities\n",
    "coocur_edges = {}\n",
    "\n",
    "# create an edge list of all topics that co-occur\n",
    "\n",
    "# TODO: instead of just adding the new dict, \n",
    "# add new entries to the exsiting entries and if\n",
    "# a key:value pair already exists, increase the count\n",
    "# by one\n",
    "\n",
    "# link provided by Ryan Carson \n",
    "# https://stackoverflow.com/questions/1692388/\n",
    "# python-list-of-dict-if-exists-increment-a-dict-value-if-not-append-a-new-dic\n",
    "for doc in nlp.pipe(Words):\n",
    "    coocur_edges = combine_nested_dicts(coocur_edges, \n",
    "                                        coocurrence(doc.ents))"
   ]
  },
  {
   "cell_type": "code",
   "execution_count": 7,
   "id": "31ce50b1",
   "metadata": {},
   "outputs": [
    {
     "data": {
      "text/plain": [
       "2520"
      ]
     },
     "execution_count": 7,
     "metadata": {},
     "output_type": "execute_result"
    }
   ],
   "source": [
    "len(coocur_edges)"
   ]
  },
  {
   "cell_type": "code",
   "execution_count": 8,
   "id": "d8521a51",
   "metadata": {},
   "outputs": [
    {
     "name": "stdout",
     "output_type": "stream",
     "text": [
      "Berangkatnya\n"
     ]
    },
    {
     "ename": "AttributeError",
     "evalue": "'int' object has no attribute 'values'",
     "output_type": "error",
     "traceback": [
      "\u001b[1;31m---------------------------------------------------------------------------\u001b[0m",
      "\u001b[1;31mAttributeError\u001b[0m                            Traceback (most recent call last)",
      "\u001b[1;32mC:\\Users\\SIMSON~1\\AppData\\Local\\Temp/ipykernel_12364/208454089.py\u001b[0m in \u001b[0;36m<module>\u001b[1;34m\u001b[0m\n\u001b[0;32m      2\u001b[0m \u001b[1;32mfor\u001b[0m \u001b[0mk\u001b[0m \u001b[1;32min\u001b[0m \u001b[0mcoocur_edges\u001b[0m\u001b[1;33m.\u001b[0m\u001b[0mkeys\u001b[0m\u001b[1;33m(\u001b[0m\u001b[1;33m)\u001b[0m\u001b[1;33m:\u001b[0m\u001b[1;33m\u001b[0m\u001b[1;33m\u001b[0m\u001b[0m\n\u001b[0;32m      3\u001b[0m     \u001b[0mprint\u001b[0m\u001b[1;33m(\u001b[0m\u001b[0mk\u001b[0m\u001b[1;33m)\u001b[0m\u001b[1;33m\u001b[0m\u001b[1;33m\u001b[0m\u001b[0m\n\u001b[1;32m----> 4\u001b[1;33m     \u001b[1;32mfor\u001b[0m \u001b[0mj\u001b[0m \u001b[1;32min\u001b[0m \u001b[0mcoocur_edges\u001b[0m\u001b[1;33m[\u001b[0m\u001b[0mk\u001b[0m\u001b[1;33m]\u001b[0m\u001b[1;33m.\u001b[0m\u001b[0mvalues\u001b[0m\u001b[1;33m(\u001b[0m\u001b[1;33m)\u001b[0m\u001b[1;33m:\u001b[0m\u001b[1;33m\u001b[0m\u001b[1;33m\u001b[0m\u001b[0m\n\u001b[0m\u001b[0;32m      5\u001b[0m         \u001b[0mprint\u001b[0m\u001b[1;33m(\u001b[0m\u001b[0mj\u001b[0m\u001b[1;33m)\u001b[0m\u001b[1;33m\u001b[0m\u001b[1;33m\u001b[0m\u001b[0m\n\u001b[0;32m      6\u001b[0m         \u001b[0mprint\u001b[0m\u001b[1;33m(\u001b[0m\u001b[1;33m[\u001b[0m\u001b[0mj\u001b[0m \u001b[1;32mfor\u001b[0m \u001b[0mi\u001b[0m \u001b[1;32min\u001b[0m \u001b[0mj\u001b[0m \u001b[1;32mif\u001b[0m \u001b[0mj\u001b[0m\u001b[1;33m[\u001b[0m\u001b[0mi\u001b[0m\u001b[1;33m]\u001b[0m \u001b[1;33m==\u001b[0m \u001b[1;36m1\u001b[0m\u001b[1;33m]\u001b[0m\u001b[1;33m)\u001b[0m\u001b[1;33m\u001b[0m\u001b[1;33m\u001b[0m\u001b[0m\n",
      "\u001b[1;31mAttributeError\u001b[0m: 'int' object has no attribute 'values'"
     ]
    }
   ],
   "source": [
    "# swows that our counts are all one\n",
    "for k in coocur_edges.keys():\n",
    "    print(k)\n",
    "    for j in coocur_edges[k].values():\n",
    "        print(j)\n",
    "        print([j for i in j if j[i] == 1])\n",
    "                  \n",
    "                  #dict((k, v) for k, v in d.items() if v >= 10)"
   ]
  },
  {
   "cell_type": "code",
   "execution_count": 9,
   "id": "5e3c1e9e",
   "metadata": {},
   "outputs": [
    {
     "ename": "SyntaxError",
     "evalue": "invalid syntax (Temp/ipykernel_12364/2712678503.py, line 5)",
     "output_type": "error",
     "traceback": [
      "\u001b[1;36m  File \u001b[1;32m\"C:\\Users\\SIMSON~1\\AppData\\Local\\Temp/ipykernel_12364/2712678503.py\"\u001b[1;36m, line \u001b[1;32m5\u001b[0m\n\u001b[1;33m    nx.draw(G, nodelist=)\u001b[0m\n\u001b[1;37m                        ^\u001b[0m\n\u001b[1;31mSyntaxError\u001b[0m\u001b[1;31m:\u001b[0m invalid syntax\n"
     ]
    }
   ],
   "source": [
    "# get a list of nodes with > 50 mentions\n",
    "\n",
    "\n",
    "# draw graph with only those nodes\n",
    "nx.draw(G, nodelist=)"
   ]
  },
  {
   "cell_type": "code",
   "execution_count": null,
   "id": "50f78c01",
   "metadata": {},
   "outputs": [],
   "source": []
  }
 ],
 "metadata": {
  "kernelspec": {
   "display_name": "Python 3 (ipykernel)",
   "language": "python",
   "name": "python3"
  },
  "language_info": {
   "codemirror_mode": {
    "name": "ipython",
    "version": 3
   },
   "file_extension": ".py",
   "mimetype": "text/x-python",
   "name": "python",
   "nbconvert_exporter": "python",
   "pygments_lexer": "ipython3",
   "version": "3.9.7"
  }
 },
 "nbformat": 4,
 "nbformat_minor": 5
}
